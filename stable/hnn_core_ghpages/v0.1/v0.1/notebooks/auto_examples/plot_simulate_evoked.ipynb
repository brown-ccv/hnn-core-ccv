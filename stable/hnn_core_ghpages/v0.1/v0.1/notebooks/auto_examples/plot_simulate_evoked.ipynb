{
 "cells": [
  {
   "cell_type": "code",
   "execution_count": null,
   "metadata": {
    "collapsed": false
   },
   "outputs": [],
   "source": [
    "%matplotlib inline"
   ]
  },
  {
   "cell_type": "markdown",
   "metadata": {},
   "source": [
    "\n",
    "# 01. Simulate dipole for evoked inputs\n",
    "\n",
    "This example demonstrates how to simulate a dipole for evoked-like\n",
    "waveforms using HNN-core.\n",
    "\n",
    "\n"
   ]
  },
  {
   "cell_type": "code",
   "execution_count": null,
   "metadata": {
    "collapsed": false
   },
   "outputs": [],
   "source": [
    "# Authors: Mainak Jas <mainak.jas@telecom-paristech.fr>\n",
    "#          Sam Neymotin <samnemo@gmail.com>\n",
    "#          Blake Caldwell <blake_caldwell@brown.edu>\n",
    "#          Christopher Bailey <cjb@cfin.au.dk>\n",
    "\n",
    "# sphinx_gallery_thumbnail_number = 2\n",
    "\n",
    "import os.path as op\n",
    "import tempfile"
   ]
  },
  {
   "cell_type": "markdown",
   "metadata": {},
   "source": [
    "Let us import hnn_core\n",
    "\n"
   ]
  },
  {
   "cell_type": "code",
   "execution_count": null,
   "metadata": {
    "collapsed": false
   },
   "outputs": [],
   "source": [
    "import hnn_core\n",
    "from hnn_core import simulate_dipole, read_params, Network, read_spikes\n",
    "from hnn_core.viz import plot_dipole\n",
    "\n",
    "hnn_core_root = op.dirname(hnn_core.__file__)"
   ]
  },
  {
   "cell_type": "markdown",
   "metadata": {},
   "source": [
    "Then we read the parameters file\n",
    "\n"
   ]
  },
  {
   "cell_type": "code",
   "execution_count": null,
   "metadata": {
    "collapsed": false
   },
   "outputs": [],
   "source": [
    "params_fname = op.join(hnn_core_root, 'param', 'default.json')\n",
    "params = read_params(params_fname)\n",
    "print(params)"
   ]
  },
  {
   "cell_type": "markdown",
   "metadata": {},
   "source": [
    "This is a lot of parameters! We can also filter the\n",
    "parameters using unix-style wildcard characters. Most of the parameters\n",
    "relate to within-network connections and the cell geometry.\n",
    "\n"
   ]
  },
  {
   "cell_type": "code",
   "execution_count": null,
   "metadata": {
    "collapsed": false
   },
   "outputs": [],
   "source": [
    "print(params['L2Pyr_soma*'])"
   ]
  },
  {
   "cell_type": "markdown",
   "metadata": {},
   "source": [
    "Let us first create our network from the params file and visualize the cells\n",
    "inside it.\n",
    "\n"
   ]
  },
  {
   "cell_type": "code",
   "execution_count": null,
   "metadata": {
    "collapsed": false
   },
   "outputs": [],
   "source": [
    "net = Network(params)\n",
    "net.plot_cells()"
   ]
  },
  {
   "cell_type": "markdown",
   "metadata": {},
   "source": [
    "The network of cells is now defined, to which we add external drives as\n",
    "required. Weights are prescribed separately for AMPA and NMDA receptors\n",
    "(receptors that are not used can be omitted or set to zero). The possible\n",
    "drive types include the following (click on the links for documentation):\n",
    "\n",
    "- :meth:`hnn_core.Network.add_evoked_drive`\n",
    "- :meth:`hnn_core.Network.add_poisson_drive`\n",
    "- :meth:`hnn_core.Network.add_bursty_drive`\n",
    "\n"
   ]
  },
  {
   "cell_type": "markdown",
   "metadata": {},
   "source": [
    "First, we add a distal evoked drive\n",
    "\n"
   ]
  },
  {
   "cell_type": "code",
   "execution_count": null,
   "metadata": {
    "collapsed": false
   },
   "outputs": [],
   "source": [
    "weights_ampa_d1 = {'L2_basket': 0.006562, 'L2_pyramidal': .000007,\n",
    "                   'L5_pyramidal': 0.142300}\n",
    "weights_nmda_d1 = {'L2_basket': 0.019482, 'L2_pyramidal': 0.004317,\n",
    "                   'L5_pyramidal': 0.080074}\n",
    "synaptic_delays_d1 = {'L2_basket': 0.1, 'L2_pyramidal': 0.1,\n",
    "                      'L5_pyramidal': 0.1}\n",
    "net.add_evoked_drive(\n",
    "    'evdist1', mu=63.53, sigma=3.85, numspikes=1, weights_ampa=weights_ampa_d1,\n",
    "    weights_nmda=weights_nmda_d1, location='distal',\n",
    "    synaptic_delays=synaptic_delays_d1, seedcore=4)"
   ]
  },
  {
   "cell_type": "markdown",
   "metadata": {},
   "source": [
    "Then, we add two proximal drives\n",
    "\n"
   ]
  },
  {
   "cell_type": "code",
   "execution_count": null,
   "metadata": {
    "collapsed": false
   },
   "outputs": [],
   "source": [
    "weights_ampa_p1 = {'L2_basket': 0.08831, 'L2_pyramidal': 0.01525,\n",
    "                   'L5_basket': 0.19934, 'L5_pyramidal': 0.00865}\n",
    "synaptic_delays_prox = {'L2_basket': 0.1, 'L2_pyramidal': 0.1,\n",
    "                        'L5_basket': 1., 'L5_pyramidal': 1.}\n",
    "# all NMDA weights are zero; pass None explicitly\n",
    "net.add_evoked_drive(\n",
    "    'evprox1', mu=26.61, sigma=2.47, numspikes=1, weights_ampa=weights_ampa_p1,\n",
    "    weights_nmda=None, location='proximal',\n",
    "    synaptic_delays=synaptic_delays_prox, seedcore=4)\n",
    "\n",
    "# Second proximal evoked drive. NB: only AMPA weights differ from first\n",
    "weights_ampa_p2 = {'L2_basket': 0.000003, 'L2_pyramidal': 1.438840,\n",
    "                   'L5_basket': 0.008958, 'L5_pyramidal': 0.684013}\n",
    "# all NMDA weights are zero; omit weights_nmda (defaults to None)\n",
    "net.add_evoked_drive(\n",
    "    'evprox2', mu=137.12, sigma=8.33, numspikes=1,\n",
    "    weights_ampa=weights_ampa_p2, location='proximal',\n",
    "    synaptic_delays=synaptic_delays_prox, seedcore=4)"
   ]
  },
  {
   "cell_type": "markdown",
   "metadata": {},
   "source": [
    "Now let's simulate the dipole, running 2 trials with the\n",
    ":class:`~hnn_core.parallel_backends.Joblib` backend.\n",
    "To run them in parallel we could set ``n_jobs`` to equal the number of\n",
    "trials. The ``Joblib`` backend allows running the simulations in parallel\n",
    "across trials.\n",
    "\n"
   ]
  },
  {
   "cell_type": "code",
   "execution_count": null,
   "metadata": {
    "collapsed": false
   },
   "outputs": [],
   "source": [
    "from hnn_core import JoblibBackend\n",
    "\n",
    "with JoblibBackend(n_jobs=1):\n",
    "    dpls = simulate_dipole(net, n_trials=2, postproc=True)"
   ]
  },
  {
   "cell_type": "markdown",
   "metadata": {},
   "source": [
    "and then plot the amplitudes of the simulated aggregate dipole moments over\n",
    "time\n",
    "\n"
   ]
  },
  {
   "cell_type": "code",
   "execution_count": null,
   "metadata": {
    "collapsed": false
   },
   "outputs": [],
   "source": [
    "import matplotlib.pyplot as plt\n",
    "fig, axes = plt.subplots(2, 1, sharex=True, figsize=(6, 6),\n",
    "                         constrained_layout=True)\n",
    "plot_dipole(dpls, ax=axes[0], layer='agg', show=False)\n",
    "net.cell_response.plot_spikes_hist(ax=axes[1],\n",
    "                                   spike_types=['evprox', 'evdist'])"
   ]
  },
  {
   "cell_type": "markdown",
   "metadata": {},
   "source": [
    "Now, let us try to make the exogenous driving inputs to the cells\n",
    "synchronous and see what happens. This is achieved by setting the parameter\n",
    "``sync_within_trial`` to ``True``. Using the ``copy``-method, we can create\n",
    "a clone of the network defined above, and then modify the drive dynamics for\n",
    "each drive. Making a copy removes any existing outputs from the network\n",
    "such as spiking information and voltages at the soma.\n",
    "\n"
   ]
  },
  {
   "cell_type": "code",
   "execution_count": null,
   "metadata": {
    "collapsed": false
   },
   "outputs": [],
   "source": [
    "net_sync = net.copy()\n",
    "net_sync.external_drives['evdist1']['dynamics']['sync_within_trial'] = True\n",
    "net_sync.external_drives['evprox1']['dynamics']['sync_within_trial'] = True\n",
    "net_sync.external_drives['evprox2']['dynamics']['sync_within_trial'] = True"
   ]
  },
  {
   "cell_type": "markdown",
   "metadata": {},
   "source": [
    "You may interrogate current values defining the spike event time dynamics by\n",
    "\n"
   ]
  },
  {
   "cell_type": "code",
   "execution_count": null,
   "metadata": {
    "collapsed": false
   },
   "outputs": [],
   "source": [
    "print(net_sync.external_drives['evdist1']['dynamics'])"
   ]
  },
  {
   "cell_type": "markdown",
   "metadata": {},
   "source": [
    "Finally, let's simulate this network.\n",
    "\n"
   ]
  },
  {
   "cell_type": "code",
   "execution_count": null,
   "metadata": {
    "collapsed": false
   },
   "outputs": [],
   "source": [
    "dpls_sync = simulate_dipole(net_sync, n_trials=1)\n",
    "\n",
    "trial_idx = 0\n",
    "dpls_sync[trial_idx].plot()\n",
    "net_sync.cell_response.plot_spikes_hist()"
   ]
  }
 ],
 "metadata": {
  "kernelspec": {
   "display_name": "Python 3",
   "language": "python",
   "name": "python3"
  },
  "language_info": {
   "codemirror_mode": {
    "name": "ipython",
    "version": 3
   },
   "file_extension": ".py",
   "mimetype": "text/x-python",
   "name": "python",
   "nbconvert_exporter": "python",
   "pygments_lexer": "ipython3",
   "version": "3.6.13"
  }
 },
 "nbformat": 4,
 "nbformat_minor": 0
}
