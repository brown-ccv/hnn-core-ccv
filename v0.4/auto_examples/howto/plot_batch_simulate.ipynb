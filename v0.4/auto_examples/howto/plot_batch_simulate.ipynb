{
 "cells": [
  {
   "cell_type": "markdown",
   "metadata": {},
   "source": [
    "\n",
    "# 07. Batch Simulation\n",
    "\n",
    "This example shows how to do batch simulations in HNN-core, allowing users to\n",
    "efficiently run multiple simulations with different parameters\n",
    "for comprehensive analysis.\n"
   ]
  },
  {
   "cell_type": "code",
   "execution_count": null,
   "metadata": {
    "collapsed": false
   },
   "outputs": [],
   "source": [
    "# Authors: Abdul Samad Siddiqui <abdulsamadsid1@gmail.com>\n",
    "#          Nick Tolley <nicholas_tolley@brown.edu>\n",
    "#          Ryan Thorpe <ryan_thorpe@brown.edu>\n",
    "#          Mainak Jas <mjas@mgh.harvard.edu>"
   ]
  },
  {
   "cell_type": "markdown",
   "metadata": {},
   "source": [
    "Let us import ``hnn_core``.\n",
    "\n"
   ]
  },
  {
   "cell_type": "code",
   "execution_count": null,
   "metadata": {
    "collapsed": false
   },
   "outputs": [],
   "source": [
    "import hnn_core\n",
    "import numpy as np\n",
    "from hnn_core.batch_simulate import BatchSimulate\n",
    "from hnn_core import jones_2009_model\n",
    "\n",
    "# The number of cores may need modifying depending on your current machine.\n",
    "n_jobs = 10"
   ]
  },
  {
   "cell_type": "code",
   "execution_count": null,
   "metadata": {
    "collapsed": false
   },
   "outputs": [],
   "source": [
    "def set_params(param_values, net=None):\n",
    "    \"\"\"\n",
    "    Set parameters in the network drives.\n",
    "\n",
    "    Parameters\n",
    "    ----------\n",
    "    param_values : dict\n",
    "        Dictionary of parameter values.\n",
    "    net : instance of Network, optional\n",
    "        If None, a new network is created using the specified model type.\n",
    "    \"\"\"\n",
    "    if net is None:\n",
    "        net = jones_2009_model()\n",
    "\n",
    "    weights_ampa = {'L2_basket': param_values['weight_basket'],\n",
    "                    'L2_pyramidal': param_values['weight_pyr'],\n",
    "                    'L5_basket': param_values['weight_basket'],\n",
    "                    'L5_pyramidal': param_values['weight_pyr']}\n",
    "\n",
    "    synaptic_delays = {'L2_basket': 0.1, 'L2_pyramidal': 0.1,\n",
    "                       'L5_basket': 1., 'L5_pyramidal': 1.}\n",
    "\n",
    "    # Add an evoked drive to the network.\n",
    "    net.add_evoked_drive('evprox',\n",
    "                         mu=param_values['mu'],\n",
    "                         sigma=param_values['sigma'],\n",
    "                         numspikes=1,\n",
    "                         location='proximal',\n",
    "                         weights_ampa=weights_ampa,\n",
    "                         synaptic_delays=synaptic_delays)"
   ]
  },
  {
   "cell_type": "markdown",
   "metadata": {},
   "source": [
    "Define a parameter grid for the batch simulation.\n",
    "\n"
   ]
  },
  {
   "cell_type": "code",
   "execution_count": null,
   "metadata": {
    "collapsed": false
   },
   "outputs": [],
   "source": [
    "param_grid = {\n",
    "    'weight_basket': np.logspace(-4 - 1, 5),\n",
    "    'weight_pyr': np.logspace(-4, -1, 5),\n",
    "    'mu': np.linspace(20, 80, 5),\n",
    "    'sigma': np.linspace(1, 20, 5)\n",
    "}"
   ]
  },
  {
   "cell_type": "markdown",
   "metadata": {},
   "source": [
    "Run the batch simulation and collect the results.\n",
    "\n"
   ]
  },
  {
   "cell_type": "code",
   "execution_count": null,
   "metadata": {
    "collapsed": false
   },
   "outputs": [],
   "source": [
    "batch_simulation = BatchSimulate(set_params=set_params)\n",
    "simulation_results = batch_simulation.run(param_grid,\n",
    "                                          n_jobs=n_jobs,\n",
    "                                          combinations=False)"
   ]
  }
 ],
 "metadata": {
  "kernelspec": {
   "display_name": "Python 3",
   "language": "python",
   "name": "python3"
  },
  "language_info": {
   "codemirror_mode": {
    "name": "ipython",
    "version": 3
   },
   "file_extension": ".py",
   "mimetype": "text/x-python",
   "name": "python",
   "nbconvert_exporter": "python",
   "pygments_lexer": "ipython3",
   "version": "3.12.4"
  }
 },
 "nbformat": 4,
 "nbformat_minor": 0
}
