{
 "cells": [
  {
   "cell_type": "markdown",
   "metadata": {},
   "source": [
    "\n",
    "# 03. Simulate Gamma Rhythms\n",
    "\n",
    "This example demonstrates how to simulate gamma rhythms via the well\n",
    "established pyramidal-interneuron-gamma mechanisms [1]_,\n",
    "as detailed in the [HNN GUI gamma tutorial](https://jonescompneurolab.github.io/hnn-tutorials/gamma/gamma),\n",
    "using HNN-Core.\n",
    "\n",
    "We recommend you first review the GUI tutorial.\n",
    "The workflow below recreates weak gamma rhythms similar to Figures 4 and 5\n",
    "of the GUI tutorial, and strong gamma rhythms similar to Figure 12 and 13\n",
    "in the GUI tutorial.\n"
   ]
  },
  {
   "cell_type": "code",
   "execution_count": null,
   "metadata": {
    "collapsed": false
   },
   "outputs": [],
   "source": [
    "# Authors: Mainak Jas <mjas@mgh.harvard.edu>\n",
    "#          Sam Neymotin <samnemo@gmail.com>\n",
    "#          Christopher Bailey <bailey.cj@gmail.com>\n",
    "\n",
    "# sphinx_gallery_thumbnail_number = 2\n",
    "\n",
    "import os.path as op"
   ]
  },
  {
   "cell_type": "markdown",
   "metadata": {},
   "source": [
    "Let us import hnn_core\n",
    "\n"
   ]
  },
  {
   "cell_type": "code",
   "execution_count": null,
   "metadata": {
    "collapsed": false
   },
   "outputs": [],
   "source": [
    "import hnn_core\n",
    "from hnn_core import simulate_dipole, read_params, jones_2009_model\n",
    "\n",
    "hnn_core_root = op.dirname(hnn_core.__file__)"
   ]
  },
  {
   "cell_type": "markdown",
   "metadata": {},
   "source": [
    "Read the parameter file and print the between-cell connectivity parameters.\n",
    "Note that these are different compared with the 'default' parameter set used\n",
    "in, e.g., `sphx_glr_auto_examples_workflows_plot_simulate_alpha.py`.\n",
    "\n"
   ]
  },
  {
   "cell_type": "code",
   "execution_count": null,
   "metadata": {
    "collapsed": false
   },
   "outputs": [],
   "source": [
    "params_fname = op.join(hnn_core_root, 'param', 'gamma_L5weak_L2weak.json')\n",
    "params = read_params(params_fname)\n",
    "print(params['gbar_L*'])"
   ]
  },
  {
   "cell_type": "markdown",
   "metadata": {},
   "source": [
    "We'll add a tonic Poisson-distributed excitation to pyramidal cells and\n",
    "simulate the dipole moment in a single trial (the default value used by\n",
    "``simulate_dipole`` is ``n_trials=params['N_trials']``).\n",
    "\n"
   ]
  },
  {
   "cell_type": "code",
   "execution_count": null,
   "metadata": {
    "collapsed": false
   },
   "outputs": [],
   "source": [
    "net = jones_2009_model(params)\n",
    "\n",
    "weights_ampa = {'L2_pyramidal': 0.0008, 'L5_pyramidal': 0.0075}\n",
    "synaptic_delays = {'L2_pyramidal': 0.1, 'L5_pyramidal': 1.0}\n",
    "rate_constant = {'L2_pyramidal': 140.0, 'L5_pyramidal': 40.0}\n",
    "net.add_poisson_drive(\n",
    "    'poisson', rate_constant=rate_constant, weights_ampa=weights_ampa,\n",
    "    location='proximal', synaptic_delays=synaptic_delays,\n",
    "    event_seed=1349)"
   ]
  },
  {
   "cell_type": "code",
   "execution_count": null,
   "metadata": {
    "collapsed": false
   },
   "outputs": [],
   "source": [
    "dpls = simulate_dipole(net, tstop=250.)\n",
    "scaling_factor = 30000\n",
    "dpls = [dpl.scale(scaling_factor) for dpl in dpls]  # scale in place"
   ]
  },
  {
   "cell_type": "markdown",
   "metadata": {},
   "source": [
    "Take a look at how different cell types respond to the exogenous drive. Note\n",
    "the periodic firing pattern of all cell types. While the basket cells fire\n",
    "relatively synchronously, the pyramidal cell populations display a more\n",
    "varied pattern, in which only a fraction of cells reach firing threshold.\n",
    "\n"
   ]
  },
  {
   "cell_type": "code",
   "execution_count": null,
   "metadata": {
    "collapsed": false
   },
   "outputs": [],
   "source": [
    "net.cell_response.plot_spikes_raster()"
   ]
  },
  {
   "cell_type": "markdown",
   "metadata": {},
   "source": [
    "To confirm that the periodicity observed in the firing patterns correspond to\n",
    "a population oscillation in the gamma-range, we can plot the time-frequency\n",
    "representation together with the signal. Note that the network requires some\n",
    "time to reach steady state. Hence, we omit the first 50 ms in our analysis.\n",
    "\n"
   ]
  },
  {
   "cell_type": "code",
   "execution_count": null,
   "metadata": {
    "collapsed": false
   },
   "outputs": [],
   "source": [
    "tmin = 50\n",
    "trial_idx = 0  # pick first trial\n",
    "\n",
    "# plot dipole time course and time-frequency representation in same figure\n",
    "import numpy as np\n",
    "import matplotlib.pyplot as plt\n",
    "\n",
    "fig, axes = plt.subplots(2, 1, sharex=True, figsize=(6, 6),\n",
    "                         constrained_layout=True)\n",
    "\n",
    "dpls[trial_idx].plot(tmin=tmin, ax=axes[0], show=False)\n",
    "\n",
    "# Create an fixed-step tiling of frequencies from 20 to 100 Hz in steps of 1 Hz\n",
    "freqs = np.arange(20., 100., 1.)\n",
    "dpls[trial_idx].plot_tfr_morlet(freqs, n_cycles=7, tmin=tmin, ax=axes[1])"
   ]
  },
  {
   "cell_type": "markdown",
   "metadata": {},
   "source": [
    "Now, let us try to re-run the simulation with a tonic bias\n",
    "applied to the L5 Pyramidal cells. Notice that the oscillation waveform is\n",
    "more regular, with less noise due to the fact that the tonic depolarization\n",
    "dominates over the influence of the Poisson drive. By default, a tonic bias\n",
    "is applied to the entire duration of the simulation.\n",
    "\n"
   ]
  },
  {
   "cell_type": "code",
   "execution_count": null,
   "metadata": {
    "collapsed": false
   },
   "outputs": [],
   "source": [
    "net.add_tonic_bias(cell_type='L5_pyramidal', amplitude=6.)\n",
    "dpls = simulate_dipole(net, tstop=250., n_trials=1)\n",
    "dpls = [dpl.scale(scaling_factor) for dpl in dpls]  # scale in place\n",
    "\n",
    "dpls[trial_idx].plot()"
   ]
  },
  {
   "cell_type": "markdown",
   "metadata": {},
   "source": [
    "Notice that the Layer 5 pyramidal neurons now fire nearly synchronously,\n",
    "leading to a synchronous activation of the inhibitory basket neurons,\n",
    "resulting in a low-latency IPSP back onto the pyramidal cells. The duration\n",
    "of the IPSP is ~20 ms, after which the combined effect of the tonic bias and\n",
    "Poisson drive is to bring the pyramidal cells back to firing threshold,\n",
    "creating a ~50 Hz PING rhythm. This type of synchronous rhythm is sometimes\n",
    "referred to as “strong” PING.\n",
    "\n"
   ]
  },
  {
   "cell_type": "code",
   "execution_count": null,
   "metadata": {
    "collapsed": false
   },
   "outputs": [],
   "source": [
    "net.cell_response.plot_spikes_raster()"
   ]
  },
  {
   "cell_type": "markdown",
   "metadata": {},
   "source": [
    "Although the simulated dipole signal demonstrates clear periodicity, its\n",
    "frequency is lower compared with the \"weak\" PING simulation above.\n",
    "\n"
   ]
  },
  {
   "cell_type": "code",
   "execution_count": null,
   "metadata": {
    "collapsed": false
   },
   "outputs": [],
   "source": [
    "from hnn_core.viz import plot_psd\n",
    "plot_psd(dpls[trial_idx], fmin=20., fmax=100., tmin=tmin)"
   ]
  },
  {
   "cell_type": "markdown",
   "metadata": {},
   "source": [
    "Finally, we demonstrate the mechanistic link between PING and the GABAA decay\n",
    "time constant (`tau2`). Using the same network/drive configuration as before,\n",
    "we decrease `tau2` from 5 to 2 ms. This will shorten the effective\n",
    "refactory period between L5 pyramidal cell spikes and increase the PING\n",
    "frequency from ~50 to ~65 Hz.\n",
    "\n"
   ]
  },
  {
   "cell_type": "code",
   "execution_count": null,
   "metadata": {
    "collapsed": false
   },
   "outputs": [],
   "source": [
    "net.cell_types['L5_pyramidal'].synapses['gabaa']['tau2'] = 2\n",
    "dpls = simulate_dipole(net, tstop=250., n_trials=1)\n",
    "dpls = [dpl.scale(scaling_factor) for dpl in dpls]  # scale in place\n",
    "\n",
    "fig, axes = plt.subplots(3, 1, sharex=True, figsize=(6, 6),\n",
    "                         constrained_layout=True)\n",
    "dpls[trial_idx].plot(ax=axes[0], show=False)\n",
    "net.cell_response.plot_spikes_raster(ax=axes[1], show=False)\n",
    "dpls[trial_idx].plot_tfr_morlet(freqs, n_cycles=7, tmin=tmin, ax=axes[2])"
   ]
  },
  {
   "cell_type": "markdown",
   "metadata": {},
   "source": [
    "## References\n",
    ".. [1] Lee, S. & Jones, S. R. Distinguishing mechanisms of gamma frequency\n",
    "       oscillations in human current source signals using a computational\n",
    "       model of a laminar neocortical network. Frontiers in human\n",
    "       neuroscience (2013)\n",
    "\n"
   ]
  }
 ],
 "metadata": {
  "kernelspec": {
   "display_name": "Python 3",
   "language": "python",
   "name": "python3"
  },
  "language_info": {
   "codemirror_mode": {
    "name": "ipython",
    "version": 3
   },
   "file_extension": ".py",
   "mimetype": "text/x-python",
   "name": "python",
   "nbconvert_exporter": "python",
   "pygments_lexer": "ipython3",
   "version": "3.8.19"
  }
 },
 "nbformat": 4,
 "nbformat_minor": 0
}
