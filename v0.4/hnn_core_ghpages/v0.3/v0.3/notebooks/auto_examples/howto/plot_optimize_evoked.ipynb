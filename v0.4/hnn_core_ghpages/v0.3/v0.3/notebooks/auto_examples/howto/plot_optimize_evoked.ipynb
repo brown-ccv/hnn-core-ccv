{
 "cells": [
  {
   "cell_type": "code",
   "execution_count": null,
   "metadata": {
    "collapsed": false
   },
   "outputs": [],
   "source": [
    "%matplotlib inline"
   ]
  },
  {
   "cell_type": "markdown",
   "metadata": {},
   "source": [
    "\n",
    "# 05. Optimize simulated evoked response parameters\n",
    "\n",
    "This example demonstrates how to optimize the parameters\n",
    "of the model simulation to match an experimental dipole waveform.\n"
   ]
  },
  {
   "cell_type": "code",
   "execution_count": null,
   "metadata": {
    "collapsed": false
   },
   "outputs": [],
   "source": [
    "# Authors: Blake Caldwell <blake_caldwell@brown.edu>\n",
    "#          Mainak Jas <mjas@mgh.harvard.edu>\n",
    "\n",
    "import os.path as op\n",
    "\n",
    "import numpy as np\n",
    "import matplotlib.pyplot as plt"
   ]
  },
  {
   "cell_type": "markdown",
   "metadata": {},
   "source": [
    "Let us import hnn_core\n",
    "\n"
   ]
  },
  {
   "cell_type": "code",
   "execution_count": null,
   "metadata": {
    "collapsed": false
   },
   "outputs": [],
   "source": [
    "import hnn_core\n",
    "from hnn_core import (MPIBackend, jones_2009_model, read_params,\n",
    "                      simulate_dipole, read_dipole)\n",
    "\n",
    "\n",
    "hnn_core_root = op.join(op.dirname(hnn_core.__file__))\n",
    "\n",
    "# The number of cores may need modifying depending on your current machine.\n",
    "n_procs = 10"
   ]
  },
  {
   "cell_type": "markdown",
   "metadata": {},
   "source": [
    "First, we will load experimental data into Dipole object.\n",
    "\n",
    "This is a different experiment than the one to which the base parameters were\n",
    "tuned. So, the initial RMSE will be large, giving the optimization procedure\n",
    "a lot to work with.\n",
    "\n"
   ]
  },
  {
   "cell_type": "code",
   "execution_count": null,
   "metadata": {
    "collapsed": false
   },
   "outputs": [],
   "source": [
    "from urllib.request import urlretrieve\n",
    "\n",
    "data_url = ('https://raw.githubusercontent.com/jonescompneurolab/hnn/master/'\n",
    "            'data/MEG_detection_data/S1_SupraT.txt')\n",
    "urlretrieve(data_url, 'S1_SupraT.txt')\n",
    "exp_dpl = read_dipole('S1_SupraT.txt')"
   ]
  },
  {
   "cell_type": "markdown",
   "metadata": {},
   "source": [
    "Read the base parameters from a file\n",
    "\n"
   ]
  },
  {
   "cell_type": "code",
   "execution_count": null,
   "metadata": {
    "collapsed": false
   },
   "outputs": [],
   "source": [
    "params_fname = op.join(hnn_core_root, 'param', 'default.json')\n",
    "params = read_params(params_fname)"
   ]
  },
  {
   "cell_type": "markdown",
   "metadata": {},
   "source": [
    "Let's first simulate the dipole with some initial parameters. The parameter\n",
    "definitions also contain the drives. Even though we could add drives\n",
    "explicitly through our API\n",
    "(see `sphx_glr_auto_examples_workflows_plot_simulate_evoked.py`),\n",
    "for conciseness,\n",
    "we add them automatically from the parameter files\n",
    "\n"
   ]
  },
  {
   "cell_type": "code",
   "execution_count": null,
   "metadata": {
    "collapsed": false
   },
   "outputs": [],
   "source": [
    "scale_factor = 3000.\n",
    "smooth_window_len = 30.\n",
    "tstop = exp_dpl.times[-1]\n",
    "net = jones_2009_model(params=params, add_drives_from_params=True)\n",
    "with MPIBackend(n_procs=n_procs):\n",
    "    print(\"Running simulation with initial parameters\")\n",
    "    initial_dpl = simulate_dipole(net, tstop=tstop, n_trials=1)[0]\n",
    "    initial_dpl = initial_dpl.scale(scale_factor).smooth(smooth_window_len)"
   ]
  },
  {
   "cell_type": "markdown",
   "metadata": {},
   "source": [
    "Now we start the optimization!\n",
    "\n"
   ]
  },
  {
   "cell_type": "code",
   "execution_count": null,
   "metadata": {
    "collapsed": false
   },
   "outputs": [],
   "source": [
    "from hnn_core.optimization import optimize_evoked\n",
    "\n",
    "with MPIBackend(n_procs=n_procs):\n",
    "    net_opt = optimize_evoked(net, tstop=tstop, n_trials=1,\n",
    "                              target_dpl=exp_dpl, initial_dpl=initial_dpl,\n",
    "                              scale_factor=scale_factor,\n",
    "                              smooth_window_len=smooth_window_len)"
   ]
  },
  {
   "cell_type": "markdown",
   "metadata": {},
   "source": [
    "Now, let's simulate the dipole with the optimized drive parameters.\n",
    "\n"
   ]
  },
  {
   "cell_type": "code",
   "execution_count": null,
   "metadata": {
    "collapsed": false
   },
   "outputs": [],
   "source": [
    "with MPIBackend(n_procs=n_procs):\n",
    "    best_dpl = simulate_dipole(net_opt, tstop=tstop, n_trials=1)[0]\n",
    "    best_dpl = best_dpl.scale(scale_factor).smooth(smooth_window_len)"
   ]
  },
  {
   "cell_type": "markdown",
   "metadata": {},
   "source": [
    "Finally, we can plot the pre- and post-optimization simulations alongside the\n",
    "experimental data. Upon visualizing the change in optimized versus initial\n",
    "dipole, you should consider exploring which parameters were changed to cause\n",
    "the improved dipole fit.\n",
    "\n"
   ]
  },
  {
   "cell_type": "code",
   "execution_count": null,
   "metadata": {
    "collapsed": false
   },
   "outputs": [],
   "source": [
    "fig, axes = plt.subplots(2, 1, sharex=True, figsize=(6, 6))\n",
    "\n",
    "exp_dpl.plot(ax=axes[0], layer='agg', show=False, color='tab:blue')\n",
    "initial_dpl.plot(ax=axes[0], layer='agg', show=False, color='tab:orange')\n",
    "best_dpl.plot(ax=axes[0], layer='agg', show=False, color='tab:green')\n",
    "axes[0].legend(['experimental', 'initial', 'optimized'])\n",
    "net_opt.cell_response.plot_spikes_hist(ax=axes[1])"
   ]
  }
 ],
 "metadata": {
  "kernelspec": {
   "display_name": "Python 3",
   "language": "python",
   "name": "python3"
  },
  "language_info": {
   "codemirror_mode": {
    "name": "ipython",
    "version": 3
   },
   "file_extension": ".py",
   "mimetype": "text/x-python",
   "name": "python",
   "nbconvert_exporter": "python",
   "pygments_lexer": "ipython3",
   "version": "3.8.13"
  }
 },
 "nbformat": 4,
 "nbformat_minor": 0
}
